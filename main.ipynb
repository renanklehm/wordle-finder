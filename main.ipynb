{
 "cells": [
  {
   "cell_type": "code",
   "execution_count": 86,
   "metadata": {},
   "outputs": [],
   "source": [
    "import pandas as pd\n",
    "import numpy as np\n",
    "\n",
    "from tqdm import tqdm"
   ]
  },
  {
   "cell_type": "code",
   "execution_count": 87,
   "metadata": {},
   "outputs": [],
   "source": [
    "df = pd.read_csv('dataset\\\\wordle.csv')\n",
    "df[['1', '2', '3', '4', '5']] = df['word'].apply(lambda x: pd.Series(list(x)))"
   ]
  },
  {
   "cell_type": "code",
   "execution_count": null,
   "metadata": {},
   "outputs": [],
   "source": [
    "class MetaData:\n",
    "    \n",
    "    def __init__(self):\n",
    "        self.correct_letters = {\n",
    "            '1': None,\n",
    "            '2': None,\n",
    "            '3': None,\n",
    "            '4': None,\n",
    "            '5': None\n",
    "        }\n",
    "        self.wrong_spots = {\n",
    "            '1': [],\n",
    "            '2': [],\n",
    "            '3': [],\n",
    "            '4': [],\n",
    "            '5': []\n",
    "        }\n",
    "        self.wrong_letters = []"
   ]
  },
  {
   "cell_type": "code",
   "execution_count": 93,
   "metadata": {},
   "outputs": [],
   "source": [
    "def get_template():\n",
    "    correct_letters = {\n",
    "        '1': None,\n",
    "        '2': None,\n",
    "        '3': None,\n",
    "        '4': None,\n",
    "        '5': None\n",
    "    }\n",
    "    wrong_spots = {\n",
    "        '1': [],\n",
    "        '2': [],\n",
    "        '3': [],\n",
    "        '4': [],\n",
    "        '5': []\n",
    "    }\n",
    "    wrong_letters = []\n",
    "    return correct_letters, wrong_spots, wrong_letters\n",
    "\n",
    "def get_possible_words(df, correct_letters, wrong_spots, wrong_letters):\n",
    "    partial_letters = (list(correct_letters.values()) + [x[i] for x in wrong_spots.values() for i in range(len(x))])\n",
    "    while None in partial_letters:\n",
    "        partial_letters.remove(None)\n",
    "    temp = df[df.apply(lambda row: \n",
    "        (\n",
    "            (\n",
    "                (correct_letters['1'] is None or row['1'] == correct_letters['1']) and\n",
    "                (correct_letters['2'] is None or row['2'] == correct_letters['2']) and\n",
    "                (correct_letters['3'] is None or row['3'] == correct_letters['3']) and\n",
    "                (correct_letters['4'] is None or row['4'] == correct_letters['4']) and\n",
    "                (correct_letters['5'] is None or row['5'] == correct_letters['5']) and\n",
    "                all(letter in row['word'] for letter in partial_letters)           and \n",
    "                not any(letter in row['word'] for letter in wrong_letters)         and\n",
    "                all(letter not in row['1'] for letter in wrong_spots['1'])         and\n",
    "                all(letter not in row['2'] for letter in wrong_spots['2'])         and\n",
    "                all(letter not in row['3'] for letter in wrong_spots['3'])         and\n",
    "                all(letter not in row['4'] for letter in wrong_spots['4'])         and\n",
    "                all(letter not in row['5'] for letter in wrong_spots['5'])\n",
    "            )\n",
    "        )\n",
    "        ,axis=1\n",
    "    )]\n",
    "    return temp['word'].values\n",
    "\n",
    "def validate_guess(guess_word, comp_word, correct_letters, wrong_spots, wrong_letters):\n",
    "    _score = 0\n",
    "    for idx, letter in enumerate(guess_word):\n",
    "        if letter in comp_word:\n",
    "            if guess_word[idx] == comp_word[idx]:\n",
    "                correct_letters[f'{idx+1}'] = letter\n",
    "                _score += 10\n",
    "            else:\n",
    "                wrong_spots[f'{idx+1}'].append(letter)\n",
    "                _score += 5\n",
    "        else:\n",
    "            wrong_letters.append(letter)\n",
    "            _score -= 1\n",
    "    return _score, correct_letters, wrong_spots, wrong_letters"
   ]
  },
  {
   "cell_type": "code",
   "execution_count": 154,
   "metadata": {},
   "outputs": [
    {
     "name": "stdout",
     "output_type": "stream",
     "text": [
      "Guess: salet | Filter Length: 85\n",
      "Guess: antis | Filter Length: 37\n",
      "Guess: kyats | Filter Length: 17\n",
      "Guess: chats | Filter Length: 12\n",
      "Guess: moats | Filter Length: 8\n",
      "Guess: brats | Filter Length: 4\n",
      "Guess: drats | Filter Length: 3\n",
      "Correct Word: frats\n"
     ]
    }
   ],
   "source": [
    "possible_words = df['word'].values\n",
    "correct_word = np.random.choice(possible_words)\n",
    "guess_word = 'salet'\n",
    "_, correct_letters, wrong_spots, wrong_letters = validate_guess(guess_word, correct_word, *get_template())\n",
    "filtered_words = get_possible_words(df, correct_letters, wrong_spots, wrong_letters)\n",
    "\n",
    "while(guess_word != correct_word):\n",
    "    best_guess = None\n",
    "    best_score = np.NINF\n",
    "    print(f'Guess: {guess_word} | Filter Length: {len(filtered_words)}')\n",
    "    for candidate_guess in filtered_words:\n",
    "        for comp_word in possible_words:\n",
    "            score, _, _, _ = validate_guess(candidate_guess, comp_word, *get_template())\n",
    "        if score > best_score:\n",
    "            best_score = score\n",
    "            best_guess = candidate_guess\n",
    "    \n",
    "    guess_word = best_guess\n",
    "    _, correct_letters, wrong_spots, wrong_letters = validate_guess(guess_word, correct_word, correct_letters, wrong_spots, wrong_letters)\n",
    "    filtered_words = get_possible_words(df, correct_letters, wrong_spots, wrong_letters)\n",
    "\n",
    "print(f'Correct Word: {correct_word}')"
   ]
  },
  {
   "cell_type": "code",
   "execution_count": 148,
   "metadata": {},
   "outputs": [],
   "source": [
    "guess_word = 'semen'\n",
    "_, correct_letters, wrong_spots, wrong_letters = validate_guess(guess_word, correct_word, correct_letters, wrong_spots, wrong_letters)\n",
    "filtered_words = get_possible_words(df, correct_letters, wrong_spots, wrong_letters)"
   ]
  },
  {
   "cell_type": "code",
   "execution_count": 150,
   "metadata": {},
   "outputs": [
    {
     "data": {
      "text/plain": [
       "'semes'"
      ]
     },
     "execution_count": 150,
     "metadata": {},
     "output_type": "execute_result"
    }
   ],
   "source": [
    "best_guess"
   ]
  },
  {
   "cell_type": "code",
   "execution_count": 151,
   "metadata": {},
   "outputs": [
    {
     "data": {
      "text/plain": [
       "'semes'"
      ]
     },
     "execution_count": 151,
     "metadata": {},
     "output_type": "execute_result"
    }
   ],
   "source": [
    "correct_word"
   ]
  }
 ],
 "metadata": {
  "kernelspec": {
   "display_name": "Python 3",
   "language": "python",
   "name": "python3"
  },
  "language_info": {
   "codemirror_mode": {
    "name": "ipython",
    "version": 3
   },
   "file_extension": ".py",
   "mimetype": "text/x-python",
   "name": "python",
   "nbconvert_exporter": "python",
   "pygments_lexer": "ipython3",
   "version": "3.10.11"
  },
  "orig_nbformat": 4
 },
 "nbformat": 4,
 "nbformat_minor": 2
}
